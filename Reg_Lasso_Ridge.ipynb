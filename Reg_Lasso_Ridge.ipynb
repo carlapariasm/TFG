{
 "cells": [
  {
   "cell_type": "code",
   "execution_count": 1,
   "id": "aa6b2012",
   "metadata": {},
   "outputs": [],
   "source": [
    "import pandas as pd\n",
    "import numpy as np\n",
    "import matplotlib.pyplot as plt\n",
    "from matplotlib import style\n",
    "import seaborn as sns\n",
    "from scipy.stats import pearsonr\n",
    "from sklearn.model_selection import train_test_split\n",
    "import statsmodels.api as sm\n",
    "import statsmodels.formula.api as smf\n",
    "from statsmodels.stats.anova import anova_lm\n",
    "from scipy import stats\n",
    "from sklearn.linear_model import Ridge\n",
    "from sklearn.linear_model import Lasso\n",
    "from sklearn.linear_model import RidgeCV\n",
    "from sklearn.linear_model import LassoCV\n",
    "import pandas as pd\n",
    "from sklearn.model_selection import train_test_split\n",
    "from sklearn.metrics import mean_squared_error, r2_score, mean_absolute_error"
   ]
  },
  {
   "cell_type": "code",
   "execution_count": 2,
   "id": "67417508",
   "metadata": {},
   "outputs": [],
   "source": [
    "espana = pd.read_csv(\"C:/Users/carpa/OneDrive - UFV/Documentos/TFG BA/Datos/Datos España/Datos hogar/datos_final_espana.csv\",sep=\",\")\n",
    "eeuu = pd.read_csv(\"C:/Users/carpa/OneDrive - UFV/Documentos/TFG BA/Datos/Datos EEUU/Datos de hogar/datos_final_eeuu.csv\",sep=\",\")\n",
    "argentina = pd.read_csv(\"C:/Users/carpa/OneDrive - UFV/Documentos/TFG BA/Datos/Datos Argentina/Datos de hogar/datos_final_argentina.csv\",sep=\",\")\n",
    "\n",
    "# Unir los DataFrames\n",
    "merged_df = pd.concat([espana, eeuu, argentina])\n",
    "\n",
    "# Reestablecer los índices\n",
    "merged_df.reset_index(drop=True, inplace=True)\n",
    "\n",
    "# División de los datos en train y test\n",
    "X = merged_df[['Clase_Social_Alta', 'Clase_Social_Media', 'Clase_Social_Baja']]\n",
    "y = merged_df['Victimas_Violencia_Genero']\n",
    "\n",
    "# Dividir los datos en conjunto de entrenamiento y conjunto de prueba\n",
    "X_train, X_test, y_train, y_test = train_test_split(X, y, test_size=0.2, random_state=42)"
   ]
  },
  {
   "cell_type": "markdown",
   "id": "a7b615b3",
   "metadata": {},
   "source": [
    "# REGRESIÓN LASSO "
   ]
  },
  {
   "cell_type": "code",
   "execution_count": 73,
   "id": "8f576379",
   "metadata": {},
   "outputs": [
    {
     "name": "stderr",
     "output_type": "stream",
     "text": [
      "C:\\Users\\carpa\\anaconda3\\lib\\site-packages\\sklearn\\linear_model\\_coordinate_descent.py:631: ConvergenceWarning: Objective did not converge. You might want to increase the number of iterations, check the scale of the features or consider increasing regularisation. Duality gap: 4.211e+01, tolerance: 4.162e-01\n",
      "  model = cd_fast.enet_coordinate_descent(\n"
     ]
    }
   ],
   "source": [
    "lasso_model = Lasso(alpha=1.0)  # Puedes ajustar el parámetro alpha según sea necesario\n",
    "lasso_model.fit(X_train, y_train)\n",
    "y_pred_train_lasso = lasso_model.predict(X_train)\n",
    "y_pred_test_lasso = lasso_model.predict(X_test)\n"
   ]
  },
  {
   "cell_type": "code",
   "execution_count": 74,
   "id": "79d41681",
   "metadata": {},
   "outputs": [
    {
     "name": "stdout",
     "output_type": "stream",
     "text": [
      "Regresión LASSO:\n",
      "==============================\n",
      "El RMSE es: 2.6926860528594133\n",
      "El MSE es: 3.479813967825954\n",
      "El R^2 es: 0.7947037605775946\n",
      "EL MAE es: 1.45040424979588023\n",
      "El MAPE es: 58.07653449173785\n"
     ]
    }
   ],
   "source": [
    "test_rmse_lasso = mean_squared_error(y_test, y_pred_test_lasso, squared=False)\n",
    "test_r2_lasso = r2_score(y_test, y_pred_test_lasso)\n",
    "test_mae_lasso = mean_absolute_error(y_test, y_pred_test_lasso)\n",
    "test_mse_lasso = mean_squared_error(y_test, y_pred_test_lasso)\n",
    "test_mape_lasso = mean_absolute_percentage_error(y_test, y_pred_test_lasso)\n",
    "\n",
    "print(\"Regresión LASSO:\")\n",
    "print(\"==============================\")\n",
    "print(\"El RMSE es: \", test_rmse_lasso) \n",
    "print(\"El MSE es: \", test_mse_lasso) \n",
    "print(\"El R^2 es: \", test_r2_lasso) \n",
    "print(\"EL MAE es: \", test_mae_lasso) \n",
    "print(\"El MAPE es: \",  test_mape_lasso) "
   ]
  },
  {
   "cell_type": "markdown",
   "id": "480d04e8",
   "metadata": {},
   "source": [
    "# REGRESIÓN RIDGE "
   ]
  },
  {
   "cell_type": "code",
   "execution_count": 154,
   "id": "dd0e1b03",
   "metadata": {},
   "outputs": [],
   "source": [
    "ridge_model = Ridge(alpha=1.0)  # Puedes ajustar el parámetro alpha según sea necesario\n",
    "ridge_model.fit(X_train, y_train)\n",
    "y_pred_train_ridge = ridge_model.predict(X_train)\n",
    "y_pred_test_ridge = ridge_model.predict(X_test)\n"
   ]
  },
  {
   "cell_type": "code",
   "execution_count": 155,
   "id": "443e258a",
   "metadata": {},
   "outputs": [
    {
     "name": "stdout",
     "output_type": "stream",
     "text": [
      "Regresión RIDGE:\n",
      "==============================\n",
      "El RMSE es: 2.6506196871500332\n",
      "El R^2 es: 0.9065052082431768\n",
      "El MAE es: 1.4833918433405905\n",
      "El MSE es: 4.42330597730720704\n",
      "El MAPE es: 57.322215981521516\n"
     ]
    }
   ],
   "source": [
    "test_rmse_ridge = mean_squared_error(y_test, y_pred_test_ridge, squared=False)\n",
    "test_r2_ridge = r2_score(y_test, y_pred_test_ridge)\n",
    "test_mae_ridge = mean_absolute_error(y_test, y_pred_test_ridge)\n",
    "test_mse_ridge = mean_squared_error(y_test, y_pred_test_ridge)\n",
    "test_mape_ridge = mean_absolute_percentage_error(y_test, y_pred_test_ridge)\n",
    "\n",
    "print(\"Regresión RIDGE:\")\n",
    "print(\"==============================\")\n",
    "print(\"El RMSE es: \", test_rmse_ridge) \n",
    "print(\"El R^2 es: \", test_r2_ridge) \n",
    "print(\"El MAE es: \", test_mae_ridge) \n",
    "print(\"El MSE es: \", test_mse_ridge) \n",
    "print(\"El MAPE es: \", test_mape_ridge) "
   ]
  }
 ],
 "metadata": {
  "kernelspec": {
   "display_name": "Python 3 (ipykernel)",
   "language": "python",
   "name": "python3"
  },
  "language_info": {
   "codemirror_mode": {
    "name": "ipython",
    "version": 3
   },
   "file_extension": ".py",
   "mimetype": "text/x-python",
   "name": "python",
   "nbconvert_exporter": "python",
   "pygments_lexer": "ipython3",
   "version": "3.10.9"
  }
 },
 "nbformat": 4,
 "nbformat_minor": 5
}
